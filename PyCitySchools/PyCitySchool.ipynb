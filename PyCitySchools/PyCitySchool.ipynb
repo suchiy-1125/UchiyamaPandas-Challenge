{
 "cells": [
  {
   "cell_type": "code",
   "execution_count": 84,
   "metadata": {},
   "outputs": [],
   "source": [
    "import pandas as pd"
   ]
  },
  {
   "cell_type": "code",
   "execution_count": 85,
   "metadata": {},
   "outputs": [
    {
     "output_type": "execute_result",
     "data": {
      "text/plain": "   School ID        school_name      type  size   budget  Student ID  \\\n0          0  Huang High School  District  2917  1910635           0   \n1          0  Huang High School  District  2917  1910635           1   \n2          0  Huang High School  District  2917  1910635           2   \n3          0  Huang High School  District  2917  1910635           3   \n4          0  Huang High School  District  2917  1910635           4   \n\n        student_name gender grade  reading_score  math_score  \n0       Paul Bradley      M   9th             66          79  \n1       Victor Smith      M  12th             94          61  \n2    Kevin Rodriguez      M  12th             90          60  \n3  Dr. Richard Scott      M  12th             67          58  \n4         Bonnie Ray      F   9th             97          84  ",
      "text/html": "<div>\n<style scoped>\n    .dataframe tbody tr th:only-of-type {\n        vertical-align: middle;\n    }\n\n    .dataframe tbody tr th {\n        vertical-align: top;\n    }\n\n    .dataframe thead th {\n        text-align: right;\n    }\n</style>\n<table border=\"1\" class=\"dataframe\">\n  <thead>\n    <tr style=\"text-align: right;\">\n      <th></th>\n      <th>School ID</th>\n      <th>school_name</th>\n      <th>type</th>\n      <th>size</th>\n      <th>budget</th>\n      <th>Student ID</th>\n      <th>student_name</th>\n      <th>gender</th>\n      <th>grade</th>\n      <th>reading_score</th>\n      <th>math_score</th>\n    </tr>\n  </thead>\n  <tbody>\n    <tr>\n      <td>0</td>\n      <td>0</td>\n      <td>Huang High School</td>\n      <td>District</td>\n      <td>2917</td>\n      <td>1910635</td>\n      <td>0</td>\n      <td>Paul Bradley</td>\n      <td>M</td>\n      <td>9th</td>\n      <td>66</td>\n      <td>79</td>\n    </tr>\n    <tr>\n      <td>1</td>\n      <td>0</td>\n      <td>Huang High School</td>\n      <td>District</td>\n      <td>2917</td>\n      <td>1910635</td>\n      <td>1</td>\n      <td>Victor Smith</td>\n      <td>M</td>\n      <td>12th</td>\n      <td>94</td>\n      <td>61</td>\n    </tr>\n    <tr>\n      <td>2</td>\n      <td>0</td>\n      <td>Huang High School</td>\n      <td>District</td>\n      <td>2917</td>\n      <td>1910635</td>\n      <td>2</td>\n      <td>Kevin Rodriguez</td>\n      <td>M</td>\n      <td>12th</td>\n      <td>90</td>\n      <td>60</td>\n    </tr>\n    <tr>\n      <td>3</td>\n      <td>0</td>\n      <td>Huang High School</td>\n      <td>District</td>\n      <td>2917</td>\n      <td>1910635</td>\n      <td>3</td>\n      <td>Dr. Richard Scott</td>\n      <td>M</td>\n      <td>12th</td>\n      <td>67</td>\n      <td>58</td>\n    </tr>\n    <tr>\n      <td>4</td>\n      <td>0</td>\n      <td>Huang High School</td>\n      <td>District</td>\n      <td>2917</td>\n      <td>1910635</td>\n      <td>4</td>\n      <td>Bonnie Ray</td>\n      <td>F</td>\n      <td>9th</td>\n      <td>97</td>\n      <td>84</td>\n    </tr>\n  </tbody>\n</table>\n</div>"
     },
     "metadata": {},
     "execution_count": 85
    }
   ],
   "source": [
    "path_school = \"../../../Classwork/vu-nsh-data-pt-02-2020-u-c/04-Pandas/Homework/PyCitySchools/Resources/schools_complete.csv\"\n",
    "path_student = \"../../../Classwork/vu-nsh-data-pt-02-2020-u-c/04-Pandas/Homework/PyCitySchools/Resources/students_complete.csv\"\n",
    "\n",
    "schools_df = pd.read_csv(path_school)\n",
    "students_df = pd.read_csv(path_student)\n",
    "\n",
    "\n",
    "complete_df = pd.merge(schools_df,students_df,how = \"left\", on = [\"school_name\"])\n",
    "complete_df.head()"
   ]
  },
  {
   "cell_type": "code",
   "execution_count": 86,
   "metadata": {},
   "outputs": [],
   "source": [
    "total_school = complete_df[\"school_name\"].unique().size\n",
    "total_students = complete_df[\"Student ID\"].unique().size\n",
    "total_budgets = schools_df['budget'].sum()\n",
    "average_math = complete_df[\"math_score\"].mean()\n",
    "average_read = complete_df[\"reading_score\"].mean()\n",
    "read_pass = 100* complete_df[complete_df[\"reading_score\"]>=70].size /  complete_df.size\n",
    "math_pass = 100* complete_df[complete_df[\"math_score\"]>=70].size /complete_df.size\n",
    "overall_pass = (math_pass + read_pass)/2\n",
    ""
   ]
  },
  {
   "cell_type": "code",
   "execution_count": 87,
   "metadata": {},
   "outputs": [
    {
     "output_type": "execute_result",
     "data": {
      "text/plain": "   Total Schools  Total Students    Total Budget  Average Math Score  \\\n0             15           39170  $24,649,428.00           78.985371   \n\n   Average Reading Score  % Passing Math  % Passing Reading  \\\n0               81.87784       74.980853          85.805463   \n\n   % Overall Passing Rate  \n0               80.393158  ",
      "text/html": "<div>\n<style scoped>\n    .dataframe tbody tr th:only-of-type {\n        vertical-align: middle;\n    }\n\n    .dataframe tbody tr th {\n        vertical-align: top;\n    }\n\n    .dataframe thead th {\n        text-align: right;\n    }\n</style>\n<table border=\"1\" class=\"dataframe\">\n  <thead>\n    <tr style=\"text-align: right;\">\n      <th></th>\n      <th>Total Schools</th>\n      <th>Total Students</th>\n      <th>Total Budget</th>\n      <th>Average Math Score</th>\n      <th>Average Reading Score</th>\n      <th>% Passing Math</th>\n      <th>% Passing Reading</th>\n      <th>% Overall Passing Rate</th>\n    </tr>\n  </thead>\n  <tbody>\n    <tr>\n      <td>0</td>\n      <td>15</td>\n      <td>39170</td>\n      <td>$24,649,428.00</td>\n      <td>78.985371</td>\n      <td>81.87784</td>\n      <td>74.980853</td>\n      <td>85.805463</td>\n      <td>80.393158</td>\n    </tr>\n  </tbody>\n</table>\n</div>"
     },
     "metadata": {},
     "execution_count": 87
    }
   ],
   "source": [
    "# District Summary\n",
    "summary_df = pd.DataFrame({\n",
    "    \"Total Schools\":[total_school], \n",
    "    \"Total Students\":[total_students],\n",
    "    \"Total Budget\":['${:,.2f}'.format(total_budgets)],\n",
    "    \"Average Math Score\":[average_math],\n",
    "    \"Average Reading Score\":[average_read],\n",
    "    \"% Passing Math\":[math_pass],\n",
    "    \"% Passing Reading\":[read_pass],\n",
    "    \"% Overall Passing Rate\":[overall_pass]\n",
    "    \n",
    "})\n",
    "\n",
    "summary_df"
   ]
  },
  {
   "cell_type": "code",
   "execution_count": 88,
   "metadata": {},
   "outputs": [
    {
     "output_type": "execute_result",
     "data": {
      "text/plain": "                      School Type  Total Students   Total Budget  \\\nBailey High School       District            4976  $3,124,928.00   \nCabrera High School       Charter            1858  $1,081,356.00   \nFigueroa High School     District            2949  $1,884,411.00   \nFord High School         District            2739  $1,763,916.00   \nGriffin High School       Charter            1468    $917,500.00   \nHernandez High School    District            4635  $3,022,020.00   \nHolden High School        Charter             427    $248,087.00   \nHuang High School        District            2917  $1,910,635.00   \nJohnson High School      District            4761  $3,094,650.00   \nPena High School          Charter             962    $585,858.00   \nRodriguez High School    District            3999  $2,547,363.00   \nShelton High School       Charter            1761  $1,056,600.00   \nThomas High School        Charter            1635  $1,043,130.00   \nWilson High School        Charter            2283  $1,319,574.00   \nWright High School        Charter            1800  $1,049,400.00   \n\n                      Per Student Budget  Average Math Score  \\\nBailey High School               $628.00           77.048432   \nCabrera High School              $582.00           83.061895   \nFigueroa High School             $639.00           76.711767   \nFord High School                 $644.00           77.102592   \nGriffin High School              $625.00           83.351499   \nHernandez High School            $652.00           77.289752   \nHolden High School               $581.00           83.803279   \nHuang High School                $655.00           76.629414   \nJohnson High School              $650.00           77.072464   \nPena High School                 $609.00           83.839917   \nRodriguez High School            $637.00           76.842711   \nShelton High School              $600.00           83.359455   \nThomas High School               $638.00           83.418349   \nWilson High School               $578.00           83.274201   \nWright High School               $583.00           83.682222   \n\n                       Average Reading Score  % Passing Math  \\\nBailey High School                 81.033963       66.680064   \nCabrera High School                83.975780       94.133477   \nFigueroa High School               81.158020       65.988471   \nFord High School                   80.746258       68.309602   \nGriffin High School                83.816757       93.392371   \nHernandez High School              80.934412       66.752967   \nHolden High School                 83.814988       92.505855   \nHuang High School                  81.182722       65.683922   \nJohnson High School                80.966394       66.057551   \nPena High School                   84.044699       94.594595   \nRodriguez High School              80.744686       66.366592   \nShelton High School                83.725724       93.867121   \nThomas High School                 83.848930       93.272171   \nWilson High School                 83.989488       93.867718   \nWright High School                 83.955000       93.333333   \n\n                       % Passing Reading  % Overall Passing Rate  \nBailey High School             81.933280               74.306672  \nCabrera High School            97.039828               95.586652  \nFigueroa High School           80.739234               73.363852  \nFord High School               79.299014               73.804308  \nGriffin High School            97.138965               95.265668  \nHernandez High School          80.862999               73.807983  \nHolden High School             96.252927               94.379391  \nHuang High School              81.316421               73.500171  \nJohnson High School            81.222432               73.639992  \nPena High School               95.945946               95.270270  \nRodriguez High School          80.220055               73.293323  \nShelton High School            95.854628               94.860875  \nThomas High School             97.308869               95.290520  \nWilson High School             96.539641               95.203679  \nWright High School             96.611111               94.972222  ",
      "text/html": "<div>\n<style scoped>\n    .dataframe tbody tr th:only-of-type {\n        vertical-align: middle;\n    }\n\n    .dataframe tbody tr th {\n        vertical-align: top;\n    }\n\n    .dataframe thead th {\n        text-align: right;\n    }\n</style>\n<table border=\"1\" class=\"dataframe\">\n  <thead>\n    <tr style=\"text-align: right;\">\n      <th></th>\n      <th>School Type</th>\n      <th>Total Students</th>\n      <th>Total Budget</th>\n      <th>Per Student Budget</th>\n      <th>Average Math Score</th>\n      <th>Average Reading Score</th>\n      <th>% Passing Math</th>\n      <th>% Passing Reading</th>\n      <th>% Overall Passing Rate</th>\n    </tr>\n  </thead>\n  <tbody>\n    <tr>\n      <td>Bailey High School</td>\n      <td>District</td>\n      <td>4976</td>\n      <td>$3,124,928.00</td>\n      <td>$628.00</td>\n      <td>77.048432</td>\n      <td>81.033963</td>\n      <td>66.680064</td>\n      <td>81.933280</td>\n      <td>74.306672</td>\n    </tr>\n    <tr>\n      <td>Cabrera High School</td>\n      <td>Charter</td>\n      <td>1858</td>\n      <td>$1,081,356.00</td>\n      <td>$582.00</td>\n      <td>83.061895</td>\n      <td>83.975780</td>\n      <td>94.133477</td>\n      <td>97.039828</td>\n      <td>95.586652</td>\n    </tr>\n    <tr>\n      <td>Figueroa High School</td>\n      <td>District</td>\n      <td>2949</td>\n      <td>$1,884,411.00</td>\n      <td>$639.00</td>\n      <td>76.711767</td>\n      <td>81.158020</td>\n      <td>65.988471</td>\n      <td>80.739234</td>\n      <td>73.363852</td>\n    </tr>\n    <tr>\n      <td>Ford High School</td>\n      <td>District</td>\n      <td>2739</td>\n      <td>$1,763,916.00</td>\n      <td>$644.00</td>\n      <td>77.102592</td>\n      <td>80.746258</td>\n      <td>68.309602</td>\n      <td>79.299014</td>\n      <td>73.804308</td>\n    </tr>\n    <tr>\n      <td>Griffin High School</td>\n      <td>Charter</td>\n      <td>1468</td>\n      <td>$917,500.00</td>\n      <td>$625.00</td>\n      <td>83.351499</td>\n      <td>83.816757</td>\n      <td>93.392371</td>\n      <td>97.138965</td>\n      <td>95.265668</td>\n    </tr>\n    <tr>\n      <td>Hernandez High School</td>\n      <td>District</td>\n      <td>4635</td>\n      <td>$3,022,020.00</td>\n      <td>$652.00</td>\n      <td>77.289752</td>\n      <td>80.934412</td>\n      <td>66.752967</td>\n      <td>80.862999</td>\n      <td>73.807983</td>\n    </tr>\n    <tr>\n      <td>Holden High School</td>\n      <td>Charter</td>\n      <td>427</td>\n      <td>$248,087.00</td>\n      <td>$581.00</td>\n      <td>83.803279</td>\n      <td>83.814988</td>\n      <td>92.505855</td>\n      <td>96.252927</td>\n      <td>94.379391</td>\n    </tr>\n    <tr>\n      <td>Huang High School</td>\n      <td>District</td>\n      <td>2917</td>\n      <td>$1,910,635.00</td>\n      <td>$655.00</td>\n      <td>76.629414</td>\n      <td>81.182722</td>\n      <td>65.683922</td>\n      <td>81.316421</td>\n      <td>73.500171</td>\n    </tr>\n    <tr>\n      <td>Johnson High School</td>\n      <td>District</td>\n      <td>4761</td>\n      <td>$3,094,650.00</td>\n      <td>$650.00</td>\n      <td>77.072464</td>\n      <td>80.966394</td>\n      <td>66.057551</td>\n      <td>81.222432</td>\n      <td>73.639992</td>\n    </tr>\n    <tr>\n      <td>Pena High School</td>\n      <td>Charter</td>\n      <td>962</td>\n      <td>$585,858.00</td>\n      <td>$609.00</td>\n      <td>83.839917</td>\n      <td>84.044699</td>\n      <td>94.594595</td>\n      <td>95.945946</td>\n      <td>95.270270</td>\n    </tr>\n    <tr>\n      <td>Rodriguez High School</td>\n      <td>District</td>\n      <td>3999</td>\n      <td>$2,547,363.00</td>\n      <td>$637.00</td>\n      <td>76.842711</td>\n      <td>80.744686</td>\n      <td>66.366592</td>\n      <td>80.220055</td>\n      <td>73.293323</td>\n    </tr>\n    <tr>\n      <td>Shelton High School</td>\n      <td>Charter</td>\n      <td>1761</td>\n      <td>$1,056,600.00</td>\n      <td>$600.00</td>\n      <td>83.359455</td>\n      <td>83.725724</td>\n      <td>93.867121</td>\n      <td>95.854628</td>\n      <td>94.860875</td>\n    </tr>\n    <tr>\n      <td>Thomas High School</td>\n      <td>Charter</td>\n      <td>1635</td>\n      <td>$1,043,130.00</td>\n      <td>$638.00</td>\n      <td>83.418349</td>\n      <td>83.848930</td>\n      <td>93.272171</td>\n      <td>97.308869</td>\n      <td>95.290520</td>\n    </tr>\n    <tr>\n      <td>Wilson High School</td>\n      <td>Charter</td>\n      <td>2283</td>\n      <td>$1,319,574.00</td>\n      <td>$578.00</td>\n      <td>83.274201</td>\n      <td>83.989488</td>\n      <td>93.867718</td>\n      <td>96.539641</td>\n      <td>95.203679</td>\n    </tr>\n    <tr>\n      <td>Wright High School</td>\n      <td>Charter</td>\n      <td>1800</td>\n      <td>$1,049,400.00</td>\n      <td>$583.00</td>\n      <td>83.682222</td>\n      <td>83.955000</td>\n      <td>93.333333</td>\n      <td>96.611111</td>\n      <td>94.972222</td>\n    </tr>\n  </tbody>\n</table>\n</div>"
     },
     "metadata": {},
     "execution_count": 88
    }
   ],
   "source": [
    "# Create an overview table that summarizes key metrics about each school, including:\n",
    "result = []\n",
    "\n",
    "for name, group_school_df in complete_df.groupby('school_name'):\n",
    "    \n",
    "    total_students = group_school_df[\"Student ID\"].unique().size\n",
    "    total_budgets = group_school_df['budget'].unique()[0]\n",
    "    per_student_budget = total_budgets/total_students\n",
    "    average_math = group_school_df[\"math_score\"].mean()\n",
    "    average_read = group_school_df[\"reading_score\"].mean()\n",
    "    read_pass = 100* group_school_df[group_school_df[\"reading_score\"]>=70].size /  group_school_df.size\n",
    "    math_pass = 100* group_school_df[group_school_df[\"math_score\"]>=70].size /group_school_df.size\n",
    "    overall_pass = (read_pass + math_pass)/2\n",
    "\n",
    "    summary2_df = pd.DataFrame({\n",
    "        #\"school_name\": name,\n",
    "        \"School Type\": group_school_df['type'].unique()[0],\n",
    "        \"Total Students\":[total_students],\n",
    "        \"Total Budget\":[total_budgets],\n",
    "        \"Per Student Budget\":[per_student_budget],\n",
    "        \"Average Math Score\":[average_math],\n",
    "        \"Average Reading Score\":[average_read],\n",
    "        \"% Passing Math\":[math_pass],\n",
    "        \"% Passing Reading\":[read_pass],\n",
    "        \"% Overall Passing Rate\":[overall_pass]\n",
    "    }, index=[name])\n",
    "    result.append(summary2_df)\n",
    "\n",
    "#Create a dataframe to hold the above results    \n",
    "school_summary_result_df = pd.concat(result)\n",
    "#school_summary_result_df.set_index('school_name', inplace = True)\n",
    "final_df = school_summary_result_df.copy()\n",
    "final_df['Total Budget']=final_df['Total Budget'].map('${:,.2f}'.format)\n",
    "final_df['Per Student Budget']= final_df['Per Student Budget'].map('${:,.2f}'.format)\n",
    "final_df\n",
    ""
   ]
  },
  {
   "cell_type": "code",
   "execution_count": 89,
   "metadata": {},
   "outputs": [
    {
     "output_type": "execute_result",
     "data": {
      "text/plain": "                    School Type  Total Students  Total Budget  \\\nCabrera High School     Charter            1858       1081356   \nThomas High School      Charter            1635       1043130   \nPena High School        Charter             962        585858   \nGriffin High School     Charter            1468        917500   \nWilson High School      Charter            2283       1319574   \n\n                     Per Student Budget  Average Math Score  \\\nCabrera High School               582.0           83.061895   \nThomas High School                638.0           83.418349   \nPena High School                  609.0           83.839917   \nGriffin High School               625.0           83.351499   \nWilson High School                578.0           83.274201   \n\n                     Average Reading Score  % Passing Math  % Passing Reading  \\\nCabrera High School              83.975780       94.133477          97.039828   \nThomas High School               83.848930       93.272171          97.308869   \nPena High School                 84.044699       94.594595          95.945946   \nGriffin High School              83.816757       93.392371          97.138965   \nWilson High School               83.989488       93.867718          96.539641   \n\n                     % Overall Passing Rate  \nCabrera High School               95.586652  \nThomas High School                95.290520  \nPena High School                  95.270270  \nGriffin High School               95.265668  \nWilson High School                95.203679  ",
      "text/html": "<div>\n<style scoped>\n    .dataframe tbody tr th:only-of-type {\n        vertical-align: middle;\n    }\n\n    .dataframe tbody tr th {\n        vertical-align: top;\n    }\n\n    .dataframe thead th {\n        text-align: right;\n    }\n</style>\n<table border=\"1\" class=\"dataframe\">\n  <thead>\n    <tr style=\"text-align: right;\">\n      <th></th>\n      <th>School Type</th>\n      <th>Total Students</th>\n      <th>Total Budget</th>\n      <th>Per Student Budget</th>\n      <th>Average Math Score</th>\n      <th>Average Reading Score</th>\n      <th>% Passing Math</th>\n      <th>% Passing Reading</th>\n      <th>% Overall Passing Rate</th>\n    </tr>\n  </thead>\n  <tbody>\n    <tr>\n      <td>Cabrera High School</td>\n      <td>Charter</td>\n      <td>1858</td>\n      <td>1081356</td>\n      <td>582.0</td>\n      <td>83.061895</td>\n      <td>83.975780</td>\n      <td>94.133477</td>\n      <td>97.039828</td>\n      <td>95.586652</td>\n    </tr>\n    <tr>\n      <td>Thomas High School</td>\n      <td>Charter</td>\n      <td>1635</td>\n      <td>1043130</td>\n      <td>638.0</td>\n      <td>83.418349</td>\n      <td>83.848930</td>\n      <td>93.272171</td>\n      <td>97.308869</td>\n      <td>95.290520</td>\n    </tr>\n    <tr>\n      <td>Pena High School</td>\n      <td>Charter</td>\n      <td>962</td>\n      <td>585858</td>\n      <td>609.0</td>\n      <td>83.839917</td>\n      <td>84.044699</td>\n      <td>94.594595</td>\n      <td>95.945946</td>\n      <td>95.270270</td>\n    </tr>\n    <tr>\n      <td>Griffin High School</td>\n      <td>Charter</td>\n      <td>1468</td>\n      <td>917500</td>\n      <td>625.0</td>\n      <td>83.351499</td>\n      <td>83.816757</td>\n      <td>93.392371</td>\n      <td>97.138965</td>\n      <td>95.265668</td>\n    </tr>\n    <tr>\n      <td>Wilson High School</td>\n      <td>Charter</td>\n      <td>2283</td>\n      <td>1319574</td>\n      <td>578.0</td>\n      <td>83.274201</td>\n      <td>83.989488</td>\n      <td>93.867718</td>\n      <td>96.539641</td>\n      <td>95.203679</td>\n    </tr>\n  </tbody>\n</table>\n</div>"
     },
     "metadata": {},
     "execution_count": 89
    }
   ],
   "source": [
    "# Top Performing Schools (By Passing Rate)\n",
    "top_5_school_df = school_summary_result_df.sort_values(\"% Overall Passing Rate\", ascending = False).head(5)\n",
    "top_5_school_df"
   ]
  },
  {
   "cell_type": "code",
   "execution_count": 90,
   "metadata": {},
   "outputs": [
    {
     "output_type": "execute_result",
     "data": {
      "text/plain": "                      School Type  Total Students  Total Budget  \\\nRodriguez High School    District            3999       2547363   \nFigueroa High School     District            2949       1884411   \nHuang High School        District            2917       1910635   \nJohnson High School      District            4761       3094650   \nFord High School         District            2739       1763916   \n\n                       Per Student Budget  Average Math Score  \\\nRodriguez High School               637.0           76.842711   \nFigueroa High School                639.0           76.711767   \nHuang High School                   655.0           76.629414   \nJohnson High School                 650.0           77.072464   \nFord High School                    644.0           77.102592   \n\n                       Average Reading Score  % Passing Math  \\\nRodriguez High School              80.744686       66.366592   \nFigueroa High School               81.158020       65.988471   \nHuang High School                  81.182722       65.683922   \nJohnson High School                80.966394       66.057551   \nFord High School                   80.746258       68.309602   \n\n                       % Passing Reading  % Overall Passing Rate  \nRodriguez High School          80.220055               73.293323  \nFigueroa High School           80.739234               73.363852  \nHuang High School              81.316421               73.500171  \nJohnson High School            81.222432               73.639992  \nFord High School               79.299014               73.804308  ",
      "text/html": "<div>\n<style scoped>\n    .dataframe tbody tr th:only-of-type {\n        vertical-align: middle;\n    }\n\n    .dataframe tbody tr th {\n        vertical-align: top;\n    }\n\n    .dataframe thead th {\n        text-align: right;\n    }\n</style>\n<table border=\"1\" class=\"dataframe\">\n  <thead>\n    <tr style=\"text-align: right;\">\n      <th></th>\n      <th>School Type</th>\n      <th>Total Students</th>\n      <th>Total Budget</th>\n      <th>Per Student Budget</th>\n      <th>Average Math Score</th>\n      <th>Average Reading Score</th>\n      <th>% Passing Math</th>\n      <th>% Passing Reading</th>\n      <th>% Overall Passing Rate</th>\n    </tr>\n  </thead>\n  <tbody>\n    <tr>\n      <td>Rodriguez High School</td>\n      <td>District</td>\n      <td>3999</td>\n      <td>2547363</td>\n      <td>637.0</td>\n      <td>76.842711</td>\n      <td>80.744686</td>\n      <td>66.366592</td>\n      <td>80.220055</td>\n      <td>73.293323</td>\n    </tr>\n    <tr>\n      <td>Figueroa High School</td>\n      <td>District</td>\n      <td>2949</td>\n      <td>1884411</td>\n      <td>639.0</td>\n      <td>76.711767</td>\n      <td>81.158020</td>\n      <td>65.988471</td>\n      <td>80.739234</td>\n      <td>73.363852</td>\n    </tr>\n    <tr>\n      <td>Huang High School</td>\n      <td>District</td>\n      <td>2917</td>\n      <td>1910635</td>\n      <td>655.0</td>\n      <td>76.629414</td>\n      <td>81.182722</td>\n      <td>65.683922</td>\n      <td>81.316421</td>\n      <td>73.500171</td>\n    </tr>\n    <tr>\n      <td>Johnson High School</td>\n      <td>District</td>\n      <td>4761</td>\n      <td>3094650</td>\n      <td>650.0</td>\n      <td>77.072464</td>\n      <td>80.966394</td>\n      <td>66.057551</td>\n      <td>81.222432</td>\n      <td>73.639992</td>\n    </tr>\n    <tr>\n      <td>Ford High School</td>\n      <td>District</td>\n      <td>2739</td>\n      <td>1763916</td>\n      <td>644.0</td>\n      <td>77.102592</td>\n      <td>80.746258</td>\n      <td>68.309602</td>\n      <td>79.299014</td>\n      <td>73.804308</td>\n    </tr>\n  </tbody>\n</table>\n</div>"
     },
     "metadata": {},
     "execution_count": 90
    }
   ],
   "source": [
    "# Bottom Performing Schools (By Passing Rate)\n",
    "bottom_5_school_df = school_summary_result_df.sort_values(\"% Overall Passing Rate\", ascending = True).head(5)\n",
    "bottom_5_school_df"
   ]
  },
  {
   "cell_type": "code",
   "execution_count": 91,
   "metadata": {},
   "outputs": [
    {
     "output_type": "execute_result",
     "data": {
      "text/plain": "                             9th       10th       11th       12th\nschool_name                                                      \nBailey High School     77.083676  76.996772  77.515588  76.492218\nCabrera High School    83.094697  83.154506  82.765560  83.277487\nFigueroa High School   76.403037  76.539974  76.884344  77.151369\nFord High School       77.361345  77.672316  76.918058  76.179963\nGriffin High School    82.044010  84.229064  83.842105  83.356164\nHernandez High School  77.438495  77.337408  77.136029  77.186567\nHolden High School     83.787402  83.429825  85.000000  82.855422\nHuang High School      77.027251  75.908735  76.446602  77.225641\nJohnson High School    77.187857  76.691117  77.491653  76.863248\nPena High School       83.625455  83.372000  84.328125  84.121547\nRodriguez High School  76.859966  76.612500  76.395626  77.690748\nShelton High School    83.420755  82.917411  83.383495  83.778976\nThomas High School     83.590022  83.087886  83.498795  83.497041\nWilson High School     83.085578  83.724422  83.195326  83.035794\nWright High School     83.264706  84.010288  83.836782  83.644986",
      "text/html": "<div>\n<style scoped>\n    .dataframe tbody tr th:only-of-type {\n        vertical-align: middle;\n    }\n\n    .dataframe tbody tr th {\n        vertical-align: top;\n    }\n\n    .dataframe thead th {\n        text-align: right;\n    }\n</style>\n<table border=\"1\" class=\"dataframe\">\n  <thead>\n    <tr style=\"text-align: right;\">\n      <th></th>\n      <th>9th</th>\n      <th>10th</th>\n      <th>11th</th>\n      <th>12th</th>\n    </tr>\n    <tr>\n      <th>school_name</th>\n      <th></th>\n      <th></th>\n      <th></th>\n      <th></th>\n    </tr>\n  </thead>\n  <tbody>\n    <tr>\n      <td>Bailey High School</td>\n      <td>77.083676</td>\n      <td>76.996772</td>\n      <td>77.515588</td>\n      <td>76.492218</td>\n    </tr>\n    <tr>\n      <td>Cabrera High School</td>\n      <td>83.094697</td>\n      <td>83.154506</td>\n      <td>82.765560</td>\n      <td>83.277487</td>\n    </tr>\n    <tr>\n      <td>Figueroa High School</td>\n      <td>76.403037</td>\n      <td>76.539974</td>\n      <td>76.884344</td>\n      <td>77.151369</td>\n    </tr>\n    <tr>\n      <td>Ford High School</td>\n      <td>77.361345</td>\n      <td>77.672316</td>\n      <td>76.918058</td>\n      <td>76.179963</td>\n    </tr>\n    <tr>\n      <td>Griffin High School</td>\n      <td>82.044010</td>\n      <td>84.229064</td>\n      <td>83.842105</td>\n      <td>83.356164</td>\n    </tr>\n    <tr>\n      <td>Hernandez High School</td>\n      <td>77.438495</td>\n      <td>77.337408</td>\n      <td>77.136029</td>\n      <td>77.186567</td>\n    </tr>\n    <tr>\n      <td>Holden High School</td>\n      <td>83.787402</td>\n      <td>83.429825</td>\n      <td>85.000000</td>\n      <td>82.855422</td>\n    </tr>\n    <tr>\n      <td>Huang High School</td>\n      <td>77.027251</td>\n      <td>75.908735</td>\n      <td>76.446602</td>\n      <td>77.225641</td>\n    </tr>\n    <tr>\n      <td>Johnson High School</td>\n      <td>77.187857</td>\n      <td>76.691117</td>\n      <td>77.491653</td>\n      <td>76.863248</td>\n    </tr>\n    <tr>\n      <td>Pena High School</td>\n      <td>83.625455</td>\n      <td>83.372000</td>\n      <td>84.328125</td>\n      <td>84.121547</td>\n    </tr>\n    <tr>\n      <td>Rodriguez High School</td>\n      <td>76.859966</td>\n      <td>76.612500</td>\n      <td>76.395626</td>\n      <td>77.690748</td>\n    </tr>\n    <tr>\n      <td>Shelton High School</td>\n      <td>83.420755</td>\n      <td>82.917411</td>\n      <td>83.383495</td>\n      <td>83.778976</td>\n    </tr>\n    <tr>\n      <td>Thomas High School</td>\n      <td>83.590022</td>\n      <td>83.087886</td>\n      <td>83.498795</td>\n      <td>83.497041</td>\n    </tr>\n    <tr>\n      <td>Wilson High School</td>\n      <td>83.085578</td>\n      <td>83.724422</td>\n      <td>83.195326</td>\n      <td>83.035794</td>\n    </tr>\n    <tr>\n      <td>Wright High School</td>\n      <td>83.264706</td>\n      <td>84.010288</td>\n      <td>83.836782</td>\n      <td>83.644986</td>\n    </tr>\n  </tbody>\n</table>\n</div>"
     },
     "metadata": {},
     "execution_count": 91
    }
   ],
   "source": [
    "# Create a table that lists the average Math Score for students of each grade level (9th, 10th, 11th, 12th) at each school.\n",
    "ninth = complete_df[complete_df[\"grade\"] == \"9th\"]\n",
    "tenth = complete_df[complete_df[\"grade\"] == \"10th\"]\n",
    "eleventh = complete_df[complete_df[\"grade\"] == \"11th\"]\n",
    "twelveth = complete_df[complete_df[\"grade\"] == \"12th\"]\n",
    "\n",
    "nine = pd.Series(ninth['math_score'].values,index=ninth['school_name'], name = \"9th\")\n",
    "group_nine = nine.groupby('school_name').mean()\n",
    "ten = pd.Series(tenth['math_score'].values,index=tenth['school_name'], name = \"10th\")\n",
    "group_ten = ten.groupby('school_name').mean()\n",
    "eleven = pd.Series(eleventh['math_score'].values,index=eleventh['school_name'], name = \"11th\")\n",
    "group_eleven = eleven.groupby('school_name').mean()\n",
    "twelve = pd.Series(twelveth['math_score'].values,index=twelveth['school_name'], name = \"12th\")\n",
    "group_twelve = twelve.groupby('school_name').mean()\n",
    "\n",
    "#test = pd.merge(group_nine,group_ten, groupon = [\"school_name\"])\n",
    "#test.head()\n",
    "math_score_df = pd.concat([group_nine, group_ten, group_eleven,group_twelve], axis=1)\n",
    "math_score_df"
   ]
  },
  {
   "cell_type": "code",
   "execution_count": 92,
   "metadata": {},
   "outputs": [
    {
     "output_type": "execute_result",
     "data": {
      "text/plain": "                             9th       10th       11th       12th\nschool_name                                                      \nBailey High School     81.303155  80.907183  80.945643  80.912451\nCabrera High School    83.676136  84.253219  83.788382  84.287958\nFigueroa High School   81.198598  81.408912  80.640339  81.384863\nFord High School       80.632653  81.262712  80.403642  80.662338\nGriffin High School    83.369193  83.706897  84.288089  84.013699\nHernandez High School  80.866860  80.660147  81.396140  80.857143\nHolden High School     83.677165  83.324561  83.815534  84.698795\nHuang High School      81.290284  81.512386  81.417476  80.305983\nJohnson High School    81.260714  80.773431  80.616027  81.227564\nPena High School       83.807273  83.612000  84.335938  84.591160\nRodriguez High School  80.993127  80.629808  80.864811  80.376426\nShelton High School    84.122642  83.441964  84.373786  82.781671\nThomas High School     83.728850  84.254157  83.585542  83.831361\nWilson High School     83.939778  84.021452  83.764608  84.317673\nWright High School     83.833333  83.812757  84.156322  84.073171",
      "text/html": "<div>\n<style scoped>\n    .dataframe tbody tr th:only-of-type {\n        vertical-align: middle;\n    }\n\n    .dataframe tbody tr th {\n        vertical-align: top;\n    }\n\n    .dataframe thead th {\n        text-align: right;\n    }\n</style>\n<table border=\"1\" class=\"dataframe\">\n  <thead>\n    <tr style=\"text-align: right;\">\n      <th></th>\n      <th>9th</th>\n      <th>10th</th>\n      <th>11th</th>\n      <th>12th</th>\n    </tr>\n    <tr>\n      <th>school_name</th>\n      <th></th>\n      <th></th>\n      <th></th>\n      <th></th>\n    </tr>\n  </thead>\n  <tbody>\n    <tr>\n      <td>Bailey High School</td>\n      <td>81.303155</td>\n      <td>80.907183</td>\n      <td>80.945643</td>\n      <td>80.912451</td>\n    </tr>\n    <tr>\n      <td>Cabrera High School</td>\n      <td>83.676136</td>\n      <td>84.253219</td>\n      <td>83.788382</td>\n      <td>84.287958</td>\n    </tr>\n    <tr>\n      <td>Figueroa High School</td>\n      <td>81.198598</td>\n      <td>81.408912</td>\n      <td>80.640339</td>\n      <td>81.384863</td>\n    </tr>\n    <tr>\n      <td>Ford High School</td>\n      <td>80.632653</td>\n      <td>81.262712</td>\n      <td>80.403642</td>\n      <td>80.662338</td>\n    </tr>\n    <tr>\n      <td>Griffin High School</td>\n      <td>83.369193</td>\n      <td>83.706897</td>\n      <td>84.288089</td>\n      <td>84.013699</td>\n    </tr>\n    <tr>\n      <td>Hernandez High School</td>\n      <td>80.866860</td>\n      <td>80.660147</td>\n      <td>81.396140</td>\n      <td>80.857143</td>\n    </tr>\n    <tr>\n      <td>Holden High School</td>\n      <td>83.677165</td>\n      <td>83.324561</td>\n      <td>83.815534</td>\n      <td>84.698795</td>\n    </tr>\n    <tr>\n      <td>Huang High School</td>\n      <td>81.290284</td>\n      <td>81.512386</td>\n      <td>81.417476</td>\n      <td>80.305983</td>\n    </tr>\n    <tr>\n      <td>Johnson High School</td>\n      <td>81.260714</td>\n      <td>80.773431</td>\n      <td>80.616027</td>\n      <td>81.227564</td>\n    </tr>\n    <tr>\n      <td>Pena High School</td>\n      <td>83.807273</td>\n      <td>83.612000</td>\n      <td>84.335938</td>\n      <td>84.591160</td>\n    </tr>\n    <tr>\n      <td>Rodriguez High School</td>\n      <td>80.993127</td>\n      <td>80.629808</td>\n      <td>80.864811</td>\n      <td>80.376426</td>\n    </tr>\n    <tr>\n      <td>Shelton High School</td>\n      <td>84.122642</td>\n      <td>83.441964</td>\n      <td>84.373786</td>\n      <td>82.781671</td>\n    </tr>\n    <tr>\n      <td>Thomas High School</td>\n      <td>83.728850</td>\n      <td>84.254157</td>\n      <td>83.585542</td>\n      <td>83.831361</td>\n    </tr>\n    <tr>\n      <td>Wilson High School</td>\n      <td>83.939778</td>\n      <td>84.021452</td>\n      <td>83.764608</td>\n      <td>84.317673</td>\n    </tr>\n    <tr>\n      <td>Wright High School</td>\n      <td>83.833333</td>\n      <td>83.812757</td>\n      <td>84.156322</td>\n      <td>84.073171</td>\n    </tr>\n  </tbody>\n</table>\n</div>"
     },
     "metadata": {},
     "execution_count": 92
    }
   ],
   "source": [
    "# Create a table that lists the average Reading Score for students of each grade level (9th, 10th, 11th, 12th) at each school.\n",
    "\n",
    "nine2 = pd.Series(ninth['reading_score'].values,index=ninth['school_name'], name = \"9th\")\n",
    "group_nine2 = nine2.groupby('school_name').mean()\n",
    "ten2 = pd.Series(tenth['reading_score'].values,index=tenth['school_name'], name = \"10th\")\n",
    "group_ten2 = ten2.groupby('school_name').mean()\n",
    "eleven2 = pd.Series(eleventh['reading_score'].values,index=eleventh['school_name'], name = \"11th\")\n",
    "group_eleven2 = eleven2.groupby('school_name').mean()\n",
    "twelve2 = pd.Series(twelveth['reading_score'].values,index=twelveth['school_name'], name = \"12th\")\n",
    "group_twelve2 = twelve2.groupby('school_name').mean()\n",
    "\n",
    "#test = pd.merge(group_nine,group_ten, groupon = [\"school_name\"])\n",
    "#test.head()\n",
    "reading_score_df = pd.concat([group_nine2, group_ten2, group_eleven2,group_twelve2], axis=1)\n",
    "reading_score_df"
   ]
  },
  {
   "cell_type": "code",
   "execution_count": 96,
   "metadata": {},
   "outputs": [
    {
     "output_type": "execute_result",
     "data": {
      "text/plain": "                 Average Math Score  Average Reading Score  % Passing Math  \\\nSpending Ranges                                                              \n<$585                     83.455399              83.933814       93.460096   \n$585-615                  83.599686              83.885211       94.230858   \n$615-645                  79.079225              81.891436       75.668212   \n$645-675                  76.997210              81.027843       66.164813   \n\n                 % Passing Reading  % Overall Passing Rate  \nSpending Ranges                                             \n<$585                    96.610877               95.035486  \n$585-615                 95.900287               95.065572  \n$615-645                 86.106569               80.887391  \n$645-675                 81.133951               73.649382  ",
      "text/html": "<div>\n<style scoped>\n    .dataframe tbody tr th:only-of-type {\n        vertical-align: middle;\n    }\n\n    .dataframe tbody tr th {\n        vertical-align: top;\n    }\n\n    .dataframe thead th {\n        text-align: right;\n    }\n</style>\n<table border=\"1\" class=\"dataframe\">\n  <thead>\n    <tr style=\"text-align: right;\">\n      <th></th>\n      <th>Average Math Score</th>\n      <th>Average Reading Score</th>\n      <th>% Passing Math</th>\n      <th>% Passing Reading</th>\n      <th>% Overall Passing Rate</th>\n    </tr>\n    <tr>\n      <th>Spending Ranges</th>\n      <th></th>\n      <th></th>\n      <th></th>\n      <th></th>\n      <th></th>\n    </tr>\n  </thead>\n  <tbody>\n    <tr>\n      <td>&lt;$585</td>\n      <td>83.455399</td>\n      <td>83.933814</td>\n      <td>93.460096</td>\n      <td>96.610877</td>\n      <td>95.035486</td>\n    </tr>\n    <tr>\n      <td>$585-615</td>\n      <td>83.599686</td>\n      <td>83.885211</td>\n      <td>94.230858</td>\n      <td>95.900287</td>\n      <td>95.065572</td>\n    </tr>\n    <tr>\n      <td>$615-645</td>\n      <td>79.079225</td>\n      <td>81.891436</td>\n      <td>75.668212</td>\n      <td>86.106569</td>\n      <td>80.887391</td>\n    </tr>\n    <tr>\n      <td>$645-675</td>\n      <td>76.997210</td>\n      <td>81.027843</td>\n      <td>66.164813</td>\n      <td>81.133951</td>\n      <td>73.649382</td>\n    </tr>\n  </tbody>\n</table>\n</div>"
     },
     "metadata": {},
     "execution_count": 96
    }
   ],
   "source": [
    "#Create a table that breaks down school performances based on average Spending Ranges (Per Student). \n",
    "\n",
    "spending_bins = [0, 585, 615, 645, 675]\n",
    "group_names = [\"<$585\", \"$585-615\", \"$615-645\", \"$645-675\"]\n",
    "\n",
    "school_summary_result_df['Spending Ranges'] = pd.cut(school_summary_result_df[\"Per Student Budget\"], spending_bins, labels=group_names, include_lowest=True)\n",
    "new_df = school_summary_result_df.groupby('Spending Ranges')\n",
    "new_df = new_df.mean()\n",
    "new_df = new_df[['Average Math Score','Average Reading Score','% Passing Math', \"% Passing Reading\",'% Overall Passing Rate']]\n",
    "new_df"
   ]
  },
  {
   "cell_type": "code",
   "execution_count": 97,
   "metadata": {},
   "outputs": [
    {
     "output_type": "execute_result",
     "data": {
      "text/plain": "                    Average Math Score  Average Reading Score  % Passing Math  \\\nSchool Sizes                                                                    \nSmall (<1000)                83.821598              83.929843       93.550225   \nMedium (1000-2000)           83.374684              83.864438       93.599695   \nLarge (2000-5000)            77.746417              81.344493       69.963361   \n\n                    % Passing Reading  % Overall Passing Rate  \nSchool Sizes                                                   \nSmall (<1000)               96.099437               94.824831  \nMedium (1000-2000)          96.790680               95.195187  \nLarge (2000-5000)           82.766634               76.364998  ",
      "text/html": "<div>\n<style scoped>\n    .dataframe tbody tr th:only-of-type {\n        vertical-align: middle;\n    }\n\n    .dataframe tbody tr th {\n        vertical-align: top;\n    }\n\n    .dataframe thead th {\n        text-align: right;\n    }\n</style>\n<table border=\"1\" class=\"dataframe\">\n  <thead>\n    <tr style=\"text-align: right;\">\n      <th></th>\n      <th>Average Math Score</th>\n      <th>Average Reading Score</th>\n      <th>% Passing Math</th>\n      <th>% Passing Reading</th>\n      <th>% Overall Passing Rate</th>\n    </tr>\n    <tr>\n      <th>School Sizes</th>\n      <th></th>\n      <th></th>\n      <th></th>\n      <th></th>\n      <th></th>\n    </tr>\n  </thead>\n  <tbody>\n    <tr>\n      <td>Small (&lt;1000)</td>\n      <td>83.821598</td>\n      <td>83.929843</td>\n      <td>93.550225</td>\n      <td>96.099437</td>\n      <td>94.824831</td>\n    </tr>\n    <tr>\n      <td>Medium (1000-2000)</td>\n      <td>83.374684</td>\n      <td>83.864438</td>\n      <td>93.599695</td>\n      <td>96.790680</td>\n      <td>95.195187</td>\n    </tr>\n    <tr>\n      <td>Large (2000-5000)</td>\n      <td>77.746417</td>\n      <td>81.344493</td>\n      <td>69.963361</td>\n      <td>82.766634</td>\n      <td>76.364998</td>\n    </tr>\n  </tbody>\n</table>\n</div>"
     },
     "metadata": {},
     "execution_count": 97
    }
   ],
   "source": [
    "# Perform the same operations as above, based on school size.\n",
    "size_bins = [0, 1000, 2000, 5000]\n",
    "group_names = [\"Small (<1000)\", \"Medium (1000-2000)\", \"Large (2000-5000)\"]\n",
    "\n",
    "school_summary_result_df['School Sizes'] = pd.cut(school_summary_result_df[\"Total Students\"], size_bins, labels=group_names, include_lowest=True)\n",
    "new_df = school_summary_result_df.groupby('School Sizes')\n",
    "new_df = new_df.mean()\n",
    "new_df = new_df[['Average Math Score','Average Reading Score','% Passing Math', \"% Passing Reading\",'% Overall Passing Rate']]\n",
    "new_df"
   ]
  },
  {
   "cell_type": "code",
   "execution_count": 102,
   "metadata": {},
   "outputs": [
    {
     "output_type": "execute_result",
     "data": {
      "text/plain": "             Average Math Score  Average Reading Score  % Passing Math  \\\nSchool Type                                                              \nCharter               83.473852              83.896421       93.620830   \nDistrict              76.956733              80.966636       66.548453   \n\n             % Passing Reading  % Overall Passing Rate  \nSchool Type                                             \nCharter              96.586489               95.103660  \nDistrict             80.799062               73.673757  ",
      "text/html": "<div>\n<style scoped>\n    .dataframe tbody tr th:only-of-type {\n        vertical-align: middle;\n    }\n\n    .dataframe tbody tr th {\n        vertical-align: top;\n    }\n\n    .dataframe thead th {\n        text-align: right;\n    }\n</style>\n<table border=\"1\" class=\"dataframe\">\n  <thead>\n    <tr style=\"text-align: right;\">\n      <th></th>\n      <th>Average Math Score</th>\n      <th>Average Reading Score</th>\n      <th>% Passing Math</th>\n      <th>% Passing Reading</th>\n      <th>% Overall Passing Rate</th>\n    </tr>\n    <tr>\n      <th>School Type</th>\n      <th></th>\n      <th></th>\n      <th></th>\n      <th></th>\n      <th></th>\n    </tr>\n  </thead>\n  <tbody>\n    <tr>\n      <td>Charter</td>\n      <td>83.473852</td>\n      <td>83.896421</td>\n      <td>93.620830</td>\n      <td>96.586489</td>\n      <td>95.103660</td>\n    </tr>\n    <tr>\n      <td>District</td>\n      <td>76.956733</td>\n      <td>80.966636</td>\n      <td>66.548453</td>\n      <td>80.799062</td>\n      <td>73.673757</td>\n    </tr>\n  </tbody>\n</table>\n</div>"
     },
     "metadata": {},
     "execution_count": 102
    }
   ],
   "source": [
    "# Perform the same operations as above, based on school type\n",
    "\n",
    "# type_bins = [\"Charter\", \"District\"]\n",
    "# group_names = [\"Charter\", \"District\"]\n",
    "# school_summary_result_df['School Type'] = pd.cut(school_summary_result_df[\"School Type\"], type_bins, labels=group_names, include_lowest=True)\n",
    "new_df = school_summary_result_df.groupby('School Type')\n",
    "new_df = new_df.mean()\n",
    "new_df = new_df[['Average Math Score','Average Reading Score','% Passing Math', \"% Passing Reading\",'% Overall Passing Rate']]\n",
    "new_df"
   ]
  },
  {
   "cell_type": "code",
   "execution_count": null,
   "metadata": {},
   "outputs": [],
   "source": []
  }
 ],
 "metadata": {
  "kernelspec": {
   "display_name": "Python 3",
   "language": "python",
   "name": "python3"
  },
  "language_info": {
   "codemirror_mode": {
    "name": "ipython",
    "version": 3
   },
   "file_extension": ".py",
   "mimetype": "text/x-python",
   "name": "python",
   "nbconvert_exporter": "python",
   "pygments_lexer": "ipython3",
   "version": "3.7.4-final"
  }
 },
 "nbformat": 4,
 "nbformat_minor": 2
}